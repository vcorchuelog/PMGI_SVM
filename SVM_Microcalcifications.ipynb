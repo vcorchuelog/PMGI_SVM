{
 "cells": [
  {
   "cell_type": "code",
   "execution_count": 1,
   "metadata": {},
   "outputs": [
    {
     "name": "stderr",
     "output_type": "stream",
     "text": [
      "C:\\ProgramData\\Anaconda3\\lib\\site-packages\\sklearn\\cross_validation.py:44: DeprecationWarning: This module was deprecated in version 0.18 in favor of the model_selection module into which all the refactored classes and functions are moved. Also note that the interface of the new CV iterators are different from that of this module. This module will be removed in 0.20.\n",
      "  \"This module will be removed in 0.20.\", DeprecationWarning)\n"
     ]
    }
   ],
   "source": [
    "# Liberias requeridas\n",
    "import numpy as np\n",
    "import pandas as pd\n",
    "import matplotlib.pyplot as plt\n",
    "from sklearn.cross_validation import train_test_split\n",
    "from sklearn.tree import DecisionTreeClassifier\n",
    "import itertools\n",
    "from sklearn import metrics\n",
    "from sklearn.model_selection import train_test_split\n",
    "from sklearn import preprocessing\n",
    "from sklearn import tree\n",
    "from sklearn.tree import export_graphviz\n",
    "from sklearn import svm\n",
    "from sklearn import neighbors\n",
    "import io\n",
    "import requests"
   ]
  },
  {
   "cell_type": "code",
   "execution_count": 2,
   "metadata": {},
   "outputs": [
    {
     "data": {
      "text/html": [
       "<div>\n",
       "<style>\n",
       "    .dataframe thead tr:only-child th {\n",
       "        text-align: right;\n",
       "    }\n",
       "\n",
       "    .dataframe thead th {\n",
       "        text-align: left;\n",
       "    }\n",
       "\n",
       "    .dataframe tbody tr th {\n",
       "        vertical-align: top;\n",
       "    }\n",
       "</style>\n",
       "<table border=\"1\" class=\"dataframe\">\n",
       "  <thead>\n",
       "    <tr style=\"text-align: right;\">\n",
       "      <th></th>\n",
       "      <th>Disk</th>\n",
       "      <th>Fibers</th>\n",
       "      <th>Micro</th>\n",
       "      <th>NSS1</th>\n",
       "      <th>NSS2</th>\n",
       "      <th>NSS3</th>\n",
       "      <th>NSS4</th>\n",
       "    </tr>\n",
       "  </thead>\n",
       "  <tbody>\n",
       "    <tr>\n",
       "      <th>0</th>\n",
       "      <td>5</td>\n",
       "      <td>6</td>\n",
       "      <td>3</td>\n",
       "      <td>-3.184686</td>\n",
       "      <td>0.464171</td>\n",
       "      <td>2.014785</td>\n",
       "      <td>-0.286103</td>\n",
       "    </tr>\n",
       "    <tr>\n",
       "      <th>1</th>\n",
       "      <td>4</td>\n",
       "      <td>4</td>\n",
       "      <td>3</td>\n",
       "      <td>-3.876074</td>\n",
       "      <td>-0.545602</td>\n",
       "      <td>1.519739</td>\n",
       "      <td>-0.425403</td>\n",
       "    </tr>\n",
       "    <tr>\n",
       "      <th>2</th>\n",
       "      <td>5</td>\n",
       "      <td>6</td>\n",
       "      <td>3</td>\n",
       "      <td>-2.771356</td>\n",
       "      <td>0.991670</td>\n",
       "      <td>2.133971</td>\n",
       "      <td>-0.180300</td>\n",
       "    </tr>\n",
       "    <tr>\n",
       "      <th>3</th>\n",
       "      <td>4</td>\n",
       "      <td>6</td>\n",
       "      <td>3</td>\n",
       "      <td>-3.100863</td>\n",
       "      <td>0.567651</td>\n",
       "      <td>1.969417</td>\n",
       "      <td>-0.130916</td>\n",
       "    </tr>\n",
       "    <tr>\n",
       "      <th>4</th>\n",
       "      <td>5</td>\n",
       "      <td>6</td>\n",
       "      <td>3</td>\n",
       "      <td>-3.146888</td>\n",
       "      <td>0.504879</td>\n",
       "      <td>1.991486</td>\n",
       "      <td>-0.305380</td>\n",
       "    </tr>\n",
       "  </tbody>\n",
       "</table>\n",
       "</div>"
      ],
      "text/plain": [
       "   Disk  Fibers  Micro      NSS1      NSS2      NSS3      NSS4\n",
       "0     5       6      3 -3.184686  0.464171  2.014785 -0.286103\n",
       "1     4       4      3 -3.876074 -0.545602  1.519739 -0.425403\n",
       "2     5       6      3 -2.771356  0.991670  2.133971 -0.180300\n",
       "3     4       6      3 -3.100863  0.567651  1.969417 -0.130916\n",
       "4     5       6      3 -3.146888  0.504879  1.991486 -0.305380"
      ]
     },
     "execution_count": 2,
     "metadata": {},
     "output_type": "execute_result"
    }
   ],
   "source": [
    "mydata = pd.read_csv('structure_data.csv')\n",
    "mydata.head()"
   ]
  },
  {
   "cell_type": "code",
   "execution_count": 3,
   "metadata": {},
   "outputs": [
    {
     "data": {
      "text/html": [
       "<div>\n",
       "<style>\n",
       "    .dataframe thead tr:only-child th {\n",
       "        text-align: right;\n",
       "    }\n",
       "\n",
       "    .dataframe thead th {\n",
       "        text-align: left;\n",
       "    }\n",
       "\n",
       "    .dataframe tbody tr th {\n",
       "        vertical-align: top;\n",
       "    }\n",
       "</style>\n",
       "<table border=\"1\" class=\"dataframe\">\n",
       "  <thead>\n",
       "    <tr style=\"text-align: right;\">\n",
       "      <th></th>\n",
       "      <th>Micro</th>\n",
       "      <th>NSS1</th>\n",
       "      <th>NSS2</th>\n",
       "      <th>NSS3</th>\n",
       "      <th>NSS4</th>\n",
       "    </tr>\n",
       "  </thead>\n",
       "  <tbody>\n",
       "    <tr>\n",
       "      <th>0</th>\n",
       "      <td>3</td>\n",
       "      <td>-3.184686</td>\n",
       "      <td>0.464171</td>\n",
       "      <td>2.014785</td>\n",
       "      <td>-0.286103</td>\n",
       "    </tr>\n",
       "    <tr>\n",
       "      <th>1</th>\n",
       "      <td>3</td>\n",
       "      <td>-3.876074</td>\n",
       "      <td>-0.545602</td>\n",
       "      <td>1.519739</td>\n",
       "      <td>-0.425403</td>\n",
       "    </tr>\n",
       "    <tr>\n",
       "      <th>2</th>\n",
       "      <td>3</td>\n",
       "      <td>-2.771356</td>\n",
       "      <td>0.991670</td>\n",
       "      <td>2.133971</td>\n",
       "      <td>-0.180300</td>\n",
       "    </tr>\n",
       "    <tr>\n",
       "      <th>3</th>\n",
       "      <td>3</td>\n",
       "      <td>-3.100863</td>\n",
       "      <td>0.567651</td>\n",
       "      <td>1.969417</td>\n",
       "      <td>-0.130916</td>\n",
       "    </tr>\n",
       "    <tr>\n",
       "      <th>4</th>\n",
       "      <td>3</td>\n",
       "      <td>-3.146888</td>\n",
       "      <td>0.504879</td>\n",
       "      <td>1.991486</td>\n",
       "      <td>-0.305380</td>\n",
       "    </tr>\n",
       "  </tbody>\n",
       "</table>\n",
       "</div>"
      ],
      "text/plain": [
       "   Micro      NSS1      NSS2      NSS3      NSS4\n",
       "0      3 -3.184686  0.464171  2.014785 -0.286103\n",
       "1      3 -3.876074 -0.545602  1.519739 -0.425403\n",
       "2      3 -2.771356  0.991670  2.133971 -0.180300\n",
       "3      3 -3.100863  0.567651  1.969417 -0.130916\n",
       "4      3 -3.146888  0.504879  1.991486 -0.305380"
      ]
     },
     "execution_count": 3,
     "metadata": {},
     "output_type": "execute_result"
    }
   ],
   "source": [
    "mydata=mydata.iloc[:, [2,3,4,5,6]]\n",
    "mydata.head() "
   ]
  },
  {
   "cell_type": "code",
   "execution_count": 4,
   "metadata": {},
   "outputs": [
    {
     "data": {
      "text/plain": [
       "count    80.000000\n",
       "mean      2.837500\n",
       "std       0.371236\n",
       "min       2.000000\n",
       "25%       3.000000\n",
       "50%       3.000000\n",
       "75%       3.000000\n",
       "max       3.000000\n",
       "Name: Micro, dtype: float64"
      ]
     },
     "execution_count": 4,
     "metadata": {},
     "output_type": "execute_result"
    }
   ],
   "source": [
    "mydata['Micro'].describe()\n"
   ]
  },
  {
   "cell_type": "code",
   "execution_count": 5,
   "metadata": {},
   "outputs": [
    {
     "data": {
      "text/html": [
       "<div>\n",
       "<style>\n",
       "    .dataframe thead tr:only-child th {\n",
       "        text-align: right;\n",
       "    }\n",
       "\n",
       "    .dataframe thead th {\n",
       "        text-align: left;\n",
       "    }\n",
       "\n",
       "    .dataframe tbody tr th {\n",
       "        vertical-align: top;\n",
       "    }\n",
       "</style>\n",
       "<table border=\"1\" class=\"dataframe\">\n",
       "  <thead>\n",
       "    <tr style=\"text-align: right;\">\n",
       "      <th></th>\n",
       "      <th>Micro</th>\n",
       "      <th>NSS1</th>\n",
       "      <th>NSS2</th>\n",
       "      <th>NSS3</th>\n",
       "      <th>NSS4</th>\n",
       "    </tr>\n",
       "  </thead>\n",
       "  <tbody>\n",
       "    <tr>\n",
       "      <th>55</th>\n",
       "      <td>3</td>\n",
       "      <td>0.111344</td>\n",
       "      <td>0.796861</td>\n",
       "      <td>-1.109148</td>\n",
       "      <td>0.545640</td>\n",
       "    </tr>\n",
       "    <tr>\n",
       "      <th>17</th>\n",
       "      <td>2</td>\n",
       "      <td>-4.361915</td>\n",
       "      <td>-2.074188</td>\n",
       "      <td>-1.052518</td>\n",
       "      <td>0.007060</td>\n",
       "    </tr>\n",
       "    <tr>\n",
       "      <th>60</th>\n",
       "      <td>3</td>\n",
       "      <td>2.645793</td>\n",
       "      <td>2.650672</td>\n",
       "      <td>-0.938823</td>\n",
       "      <td>0.805583</td>\n",
       "    </tr>\n",
       "    <tr>\n",
       "      <th>62</th>\n",
       "      <td>3</td>\n",
       "      <td>2.597513</td>\n",
       "      <td>2.530138</td>\n",
       "      <td>-0.704000</td>\n",
       "      <td>-0.271487</td>\n",
       "    </tr>\n",
       "    <tr>\n",
       "      <th>6</th>\n",
       "      <td>3</td>\n",
       "      <td>10.329673</td>\n",
       "      <td>-2.189068</td>\n",
       "      <td>0.343057</td>\n",
       "      <td>-0.416065</td>\n",
       "    </tr>\n",
       "  </tbody>\n",
       "</table>\n",
       "</div>"
      ],
      "text/plain": [
       "    Micro       NSS1      NSS2      NSS3      NSS4\n",
       "55      3   0.111344  0.796861 -1.109148  0.545640\n",
       "17      2  -4.361915 -2.074188 -1.052518  0.007060\n",
       "60      3   2.645793  2.650672 -0.938823  0.805583\n",
       "62      3   2.597513  2.530138 -0.704000 -0.271487\n",
       "6       3  10.329673 -2.189068  0.343057 -0.416065"
      ]
     },
     "execution_count": 5,
     "metadata": {},
     "output_type": "execute_result"
    }
   ],
   "source": [
    "data, test= train_test_split(mydata, test_size = 0.3, random_state=0)\n",
    "data.head()"
   ]
  },
  {
   "cell_type": "code",
   "execution_count": 6,
   "metadata": {},
   "outputs": [
    {
     "data": {
      "text/html": [
       "<div>\n",
       "<style>\n",
       "    .dataframe thead tr:only-child th {\n",
       "        text-align: right;\n",
       "    }\n",
       "\n",
       "    .dataframe thead th {\n",
       "        text-align: left;\n",
       "    }\n",
       "\n",
       "    .dataframe tbody tr th {\n",
       "        vertical-align: top;\n",
       "    }\n",
       "</style>\n",
       "<table border=\"1\" class=\"dataframe\">\n",
       "  <thead>\n",
       "    <tr style=\"text-align: right;\">\n",
       "      <th></th>\n",
       "      <th>C</th>\n",
       "      <th>NSS1</th>\n",
       "      <th>NSS2</th>\n",
       "      <th>NSS3</th>\n",
       "      <th>NSS4</th>\n",
       "    </tr>\n",
       "  </thead>\n",
       "  <tbody>\n",
       "    <tr>\n",
       "      <th>55</th>\n",
       "      <td>3</td>\n",
       "      <td>0.111344</td>\n",
       "      <td>0.796861</td>\n",
       "      <td>-1.109148</td>\n",
       "      <td>0.545640</td>\n",
       "    </tr>\n",
       "    <tr>\n",
       "      <th>17</th>\n",
       "      <td>2</td>\n",
       "      <td>-4.361915</td>\n",
       "      <td>-2.074188</td>\n",
       "      <td>-1.052518</td>\n",
       "      <td>0.007060</td>\n",
       "    </tr>\n",
       "    <tr>\n",
       "      <th>60</th>\n",
       "      <td>3</td>\n",
       "      <td>2.645793</td>\n",
       "      <td>2.650672</td>\n",
       "      <td>-0.938823</td>\n",
       "      <td>0.805583</td>\n",
       "    </tr>\n",
       "    <tr>\n",
       "      <th>62</th>\n",
       "      <td>3</td>\n",
       "      <td>2.597513</td>\n",
       "      <td>2.530138</td>\n",
       "      <td>-0.704000</td>\n",
       "      <td>-0.271487</td>\n",
       "    </tr>\n",
       "    <tr>\n",
       "      <th>6</th>\n",
       "      <td>3</td>\n",
       "      <td>10.329673</td>\n",
       "      <td>-2.189068</td>\n",
       "      <td>0.343057</td>\n",
       "      <td>-0.416065</td>\n",
       "    </tr>\n",
       "  </tbody>\n",
       "</table>\n",
       "</div>"
      ],
      "text/plain": [
       "    C       NSS1      NSS2      NSS3      NSS4\n",
       "55  3   0.111344  0.796861 -1.109148  0.545640\n",
       "17  2  -4.361915 -2.074188 -1.052518  0.007060\n",
       "60  3   2.645793  2.650672 -0.938823  0.805583\n",
       "62  3   2.597513  2.530138 -0.704000 -0.271487\n",
       "6   3  10.329673 -2.189068  0.343057 -0.416065"
      ]
     },
     "execution_count": 6,
     "metadata": {},
     "output_type": "execute_result"
    }
   ],
   "source": [
    "data = data.rename(columns = {data.columns.values[0]:'C'}) # Cambiamos el nombre de la última columna por \"C\" de clase\n",
    "data.head()"
   ]
  },
  {
   "cell_type": "code",
   "execution_count": 7,
   "metadata": {},
   "outputs": [
    {
     "data": {
      "text/html": [
       "<div>\n",
       "<style>\n",
       "    .dataframe thead tr:only-child th {\n",
       "        text-align: right;\n",
       "    }\n",
       "\n",
       "    .dataframe thead th {\n",
       "        text-align: left;\n",
       "    }\n",
       "\n",
       "    .dataframe tbody tr th {\n",
       "        vertical-align: top;\n",
       "    }\n",
       "</style>\n",
       "<table border=\"1\" class=\"dataframe\">\n",
       "  <thead>\n",
       "    <tr style=\"text-align: right;\">\n",
       "      <th></th>\n",
       "      <th>Micro</th>\n",
       "      <th>NSS1</th>\n",
       "      <th>NSS2</th>\n",
       "      <th>NSS3</th>\n",
       "      <th>NSS4</th>\n",
       "    </tr>\n",
       "  </thead>\n",
       "  <tbody>\n",
       "    <tr>\n",
       "      <th>50</th>\n",
       "      <td>3</td>\n",
       "      <td>1.693871</td>\n",
       "      <td>2.065955</td>\n",
       "      <td>-0.976759</td>\n",
       "      <td>0.741771</td>\n",
       "    </tr>\n",
       "    <tr>\n",
       "      <th>27</th>\n",
       "      <td>3</td>\n",
       "      <td>2.365539</td>\n",
       "      <td>2.308971</td>\n",
       "      <td>-0.527195</td>\n",
       "      <td>-0.516220</td>\n",
       "    </tr>\n",
       "    <tr>\n",
       "      <th>30</th>\n",
       "      <td>2</td>\n",
       "      <td>-5.298552</td>\n",
       "      <td>-3.355324</td>\n",
       "      <td>-1.052359</td>\n",
       "      <td>-0.306988</td>\n",
       "    </tr>\n",
       "    <tr>\n",
       "      <th>77</th>\n",
       "      <td>3</td>\n",
       "      <td>-3.838047</td>\n",
       "      <td>-0.427517</td>\n",
       "      <td>1.707117</td>\n",
       "      <td>-0.682892</td>\n",
       "    </tr>\n",
       "    <tr>\n",
       "      <th>45</th>\n",
       "      <td>3</td>\n",
       "      <td>-3.714805</td>\n",
       "      <td>-0.428853</td>\n",
       "      <td>1.087971</td>\n",
       "      <td>0.170843</td>\n",
       "    </tr>\n",
       "  </tbody>\n",
       "</table>\n",
       "</div>"
      ],
      "text/plain": [
       "    Micro      NSS1      NSS2      NSS3      NSS4\n",
       "50      3  1.693871  2.065955 -0.976759  0.741771\n",
       "27      3  2.365539  2.308971 -0.527195 -0.516220\n",
       "30      2 -5.298552 -3.355324 -1.052359 -0.306988\n",
       "77      3 -3.838047 -0.427517  1.707117 -0.682892\n",
       "45      3 -3.714805 -0.428853  1.087971  0.170843"
      ]
     },
     "execution_count": 7,
     "metadata": {},
     "output_type": "execute_result"
    }
   ],
   "source": [
    "#data = data.apply(le.fit_transform) # Convertimos los valores de object a int\n",
    "test.head()"
   ]
  },
  {
   "cell_type": "code",
   "execution_count": 8,
   "metadata": {},
   "outputs": [
    {
     "data": {
      "text/html": [
       "<div>\n",
       "<style>\n",
       "    .dataframe thead tr:only-child th {\n",
       "        text-align: right;\n",
       "    }\n",
       "\n",
       "    .dataframe thead th {\n",
       "        text-align: left;\n",
       "    }\n",
       "\n",
       "    .dataframe tbody tr th {\n",
       "        vertical-align: top;\n",
       "    }\n",
       "</style>\n",
       "<table border=\"1\" class=\"dataframe\">\n",
       "  <thead>\n",
       "    <tr style=\"text-align: right;\">\n",
       "      <th></th>\n",
       "      <th>C</th>\n",
       "      <th>NSS1</th>\n",
       "      <th>NSS2</th>\n",
       "      <th>NSS3</th>\n",
       "      <th>NSS4</th>\n",
       "    </tr>\n",
       "  </thead>\n",
       "  <tbody>\n",
       "    <tr>\n",
       "      <th>50</th>\n",
       "      <td>3</td>\n",
       "      <td>1.693871</td>\n",
       "      <td>2.065955</td>\n",
       "      <td>-0.976759</td>\n",
       "      <td>0.741771</td>\n",
       "    </tr>\n",
       "    <tr>\n",
       "      <th>27</th>\n",
       "      <td>3</td>\n",
       "      <td>2.365539</td>\n",
       "      <td>2.308971</td>\n",
       "      <td>-0.527195</td>\n",
       "      <td>-0.516220</td>\n",
       "    </tr>\n",
       "    <tr>\n",
       "      <th>30</th>\n",
       "      <td>2</td>\n",
       "      <td>-5.298552</td>\n",
       "      <td>-3.355324</td>\n",
       "      <td>-1.052359</td>\n",
       "      <td>-0.306988</td>\n",
       "    </tr>\n",
       "    <tr>\n",
       "      <th>77</th>\n",
       "      <td>3</td>\n",
       "      <td>-3.838047</td>\n",
       "      <td>-0.427517</td>\n",
       "      <td>1.707117</td>\n",
       "      <td>-0.682892</td>\n",
       "    </tr>\n",
       "    <tr>\n",
       "      <th>45</th>\n",
       "      <td>3</td>\n",
       "      <td>-3.714805</td>\n",
       "      <td>-0.428853</td>\n",
       "      <td>1.087971</td>\n",
       "      <td>0.170843</td>\n",
       "    </tr>\n",
       "  </tbody>\n",
       "</table>\n",
       "</div>"
      ],
      "text/plain": [
       "    C      NSS1      NSS2      NSS3      NSS4\n",
       "50  3  1.693871  2.065955 -0.976759  0.741771\n",
       "27  3  2.365539  2.308971 -0.527195 -0.516220\n",
       "30  2 -5.298552 -3.355324 -1.052359 -0.306988\n",
       "77  3 -3.838047 -0.427517  1.707117 -0.682892\n",
       "45  3 -3.714805 -0.428853  1.087971  0.170843"
      ]
     },
     "execution_count": 8,
     "metadata": {},
     "output_type": "execute_result"
    }
   ],
   "source": [
    "test = test.rename(columns = {test.columns.values[0]:'C'}) # Cambiamos el nombre de la última columna por \"C\" de clase\n",
    "test.head()"
   ]
  },
  {
   "cell_type": "code",
   "execution_count": 9,
   "metadata": {
    "collapsed": true
   },
   "outputs": [],
   "source": [
    "x_train = data.drop('C', axis = 1)\n",
    "y_train = data['C']\n",
    "\n",
    "#x_train\n",
    "#y_train\n",
    "\n",
    "x_test = test.drop('C', axis = 1)\n",
    "y_test = test['C']\n",
    "\n",
    "#x_test\n",
    "#y_test\n"
   ]
  },
  {
   "cell_type": "code",
   "execution_count": 10,
   "metadata": {},
   "outputs": [
    {
     "name": "stdout",
     "output_type": "stream",
     "text": [
      "Original dataset shape trainval Counter({3: 34, 2: 5})\n",
      "Original dataset shape testval Counter({3: 13, 2: 4})\n"
     ]
    }
   ],
   "source": [
    "from collections import Counter\n",
    "\n",
    "xs_trainval1, xs_testval1, ys_trainval1, ys_testval1 = train_test_split(x_train, y_train, test_size = 0.3, random_state=0)\n",
    "print('Original dataset shape trainval {}'.format(Counter(ys_trainval1)))\n",
    "print('Original dataset shape testval {}'.format(Counter(ys_testval1)))"
   ]
  },
  {
   "cell_type": "code",
   "execution_count": 11,
   "metadata": {},
   "outputs": [
    {
     "name": "stdout",
     "output_type": "stream",
     "text": [
      "\n",
      "############## Accuracy Linear SVM  ##################\n",
      "0.941176470588\n",
      "[[ 3  1]\n",
      " [ 0 13]]\n"
     ]
    }
   ],
   "source": [
    "SVMl = svm.SVC(kernel='linear')\n",
    "\n",
    "SVMl.fit(xs_trainval1, ys_trainval1)\n",
    "SVMl_predict = SVMl.predict(xs_testval1)\n",
    "\n",
    "print(\"\\n############## Accuracy Linear SVM  ##################\")\n",
    "print(metrics.accuracy_score(ys_testval1, SVMl_predict))\n",
    "print(metrics.confusion_matrix(ys_testval1, SVMl_predict))"
   ]
  },
  {
   "cell_type": "code",
   "execution_count": 12,
   "metadata": {},
   "outputs": [
    {
     "name": "stdout",
     "output_type": "stream",
     "text": [
      "\n",
      "############## Accuracy SVM RBF ##################\n",
      "0.941176470588\n",
      "[[ 3  1]\n",
      " [ 0 13]]\n"
     ]
    }
   ],
   "source": [
    "\n",
    "SVMrbf = svm.SVC(kernel='rbf')\n",
    "\n",
    "SVMrbf.fit(xs_trainval1, ys_trainval1)\n",
    "SVMrbf_predict = SVMrbf.predict(xs_testval1)\n",
    "\n",
    "print(\"\\n############## Accuracy SVM RBF ##################\")\n",
    "print(metrics.accuracy_score(ys_testval1, SVMrbf_predict))\n",
    "print(metrics.confusion_matrix(ys_testval1, SVMrbf_predict))"
   ]
  },
  {
   "cell_type": "code",
   "execution_count": 13,
   "metadata": {},
   "outputs": [
    {
     "name": "stdout",
     "output_type": "stream",
     "text": [
      "\n",
      "############## Accuracy SVM sigmoid ##################\n",
      "0.764705882353\n",
      "[[ 0  4]\n",
      " [ 0 13]]\n"
     ]
    }
   ],
   "source": [
    "SVMsg = svm.SVC(kernel='sigmoid')\n",
    "\n",
    "SVMsg.fit(xs_trainval1, ys_trainval1)\n",
    "SVMsg_predict = SVMsg.predict(xs_testval1)\n",
    "\n",
    "print(\"\\n############## Accuracy SVM sigmoid ##################\")\n",
    "print(metrics.accuracy_score(ys_testval1, SVMsg_predict))\n",
    "print(metrics.confusion_matrix(ys_testval1, SVMsg_predict))"
   ]
  },
  {
   "cell_type": "code",
   "execution_count": 14,
   "metadata": {},
   "outputs": [
    {
     "name": "stdout",
     "output_type": "stream",
     "text": [
      "\n",
      "############## Accuracy SVM POLY ##################\n",
      "0.882352941176\n",
      "[[ 3  1]\n",
      " [ 1 12]]\n"
     ]
    }
   ],
   "source": [
    "SVMpoly = svm.SVC(kernel='poly')\n",
    "\n",
    "SVMpoly.fit(xs_trainval1, ys_trainval1)\n",
    "SVMpoly_predict = SVMpoly.predict(xs_testval1)\n",
    "\n",
    "print(\"\\n############## Accuracy SVM POLY ##################\")\n",
    "print(metrics.accuracy_score(ys_testval1, SVMpoly_predict))\n",
    "print(metrics.confusion_matrix(ys_testval1, SVMpoly_predict))"
   ]
  },
  {
   "cell_type": "code",
   "execution_count": 15,
   "metadata": {},
   "outputs": [
    {
     "name": "stderr",
     "output_type": "stream",
     "text": [
      "C:\\ProgramData\\Anaconda3\\lib\\site-packages\\sklearn\\metrics\\classification.py:1115: UndefinedMetricWarning: Recall and F-score are ill-defined and being set to 0.0 in labels with no true samples.\n",
      "  'recall', 'true', average, warn_for)\n",
      "C:\\ProgramData\\Anaconda3\\lib\\site-packages\\sklearn\\metrics\\classification.py:1113: UndefinedMetricWarning: Precision and F-score are ill-defined and being set to 0.0 in labels with no predicted samples.\n",
      "  'precision', 'predicted', average, warn_for)\n"
     ]
    }
   ],
   "source": [
    "import statistics as stats\n",
    "import pandas as pd\n",
    "\n",
    "m=[]\n",
    "M=[]\n",
    "C=[]\n",
    "report=[]\n",
    "R=[]\n",
    "for i in range(1,101):\n",
    "    xs_train, xs_test, ys_train, ys_test = train_test_split(x_train, y_train, test_size = 0.4, random_state=None)\n",
    "    SVMl1t = svm.SVC(kernel='rbf')\n",
    "    SVMl1t.fit(xs_train, ys_train)\n",
    "    SVMl1t_predict = SVMl1t.predict(xs_test)\n",
    "    cm=metrics.confusion_matrix(ys_test, SVMl1t_predict)\n",
    "    me=metrics.accuracy_score(ys_test, SVMl1t_predict)\n",
    "    cr=metrics.classification_report(ys_test, SVMl1t_predict)\n",
    "    report = pd.DataFrame(list(metrics.precision_recall_fscore_support(ys_test, SVMl1t_predict))).T\n",
    "    m.append(me)\n",
    "    M.append(cm)\n",
    "    C.append(cr)\n",
    "    R.append(report)"
   ]
  },
  {
   "cell_type": "code",
   "execution_count": 16,
   "metadata": {},
   "outputs": [],
   "source": [
    "Ra=np.array([])\n",
    "Rb=np.array([])\n",
    "Rc=np.array([])\n",
    "Rd=np.array([])\n",
    "\n",
    "for report in R:\n",
    "    w=np.concatenate((report[0], report[1]), axis=None)\n",
    "    Ra=np.append(Ra,w[0])\n",
    "    Rb=np.append(Rb,w[1])\n",
    "    Rc=np.append(Rc,w[2])\n",
    "    Rd=np.append(Rd,w[3])"
   ]
  },
  {
   "cell_type": "code",
   "execution_count": 17,
   "metadata": {
    "collapsed": true
   },
   "outputs": [],
   "source": [
    "Re=np.array([])\n",
    "Rf=np.array([])\n",
    "Rg=np.array([])\n",
    "Rh=np.array([])\n",
    "\n",
    "for report in R:\n",
    "    y=np.concatenate((report[2], report[3]), axis=None)\n",
    "    Re=np.append(Re,y[0])\n",
    "    Rf=np.append(Rf,y[1])\n",
    "    Rg=np.append(Rg,y[2])\n",
    "    Rh=np.append(Rh,y[3])"
   ]
  },
  {
   "cell_type": "code",
   "execution_count": 18,
   "metadata": {},
   "outputs": [
    {
     "name": "stdout",
     "output_type": "stream",
     "text": [
      "[ 2.  3.  3.  3.  4.  3.  2.  3.  2.  2.  4.  2.  2.  2.  3.  3.  3.  3.\n",
      "  3.  1.  4.  2.  3.  1.  3.  3.  3.  3.  0.  2.  3.  1.  4.  2.  2.  2.\n",
      "  1.  2.  3.  3.  3.  1.  1.  2.  1.  2.  0.  1.  2.  2.  2.  2.  2.  4.\n",
      "  2.  0.  3.  2.  3.  3.  3.  4.  4.  2.  2.  1.  4.  2.  0.  3.  2.  3.\n",
      "  3.  1.  2.  4.  4.  4.  5.  2.  2.  4.  3.  3.  4.  2.  2.  2.  3.  2.\n",
      "  2.  3.  3.  3.  2.  2.  2.  2.  0.  2.]\n",
      "[ 0.  2.  1.  2.  1.  2.  2.  2.  1.  1.  0.  1.  3.  2.  1.  1.  2.  0.\n",
      "  1.  1.  0.  0.  1.  1.  2.  1.  0.  1.  0.  1.  1.  0.  1.  2.  1.  2.\n",
      "  1.  0.  1.  2.  0.  1.  2.  1.  0.  3.  1.  0.  1.  1.  0.  0.  0.  1.\n",
      "  0.  6.  1.  1.  1.  2.  2.  0.  2.  1.  0.  0.  1.  0.  1.  0.  2.  1.\n",
      "  2.  2.  2.  0.  0.  1.  1.  0.  0.  0.  1.  1.  0.  2.  2.  3.  0.  2.\n",
      "  2.  2.  1.  1.  1.  3.  1.  1.  2.  1.]\n",
      "[ 0.  0.  0.  0.  0.  0.  0.  0.  0.  0.  0.  0.  0.  0.  1.  0.  0.  0.\n",
      "  1.  1.  1.  1.  0.  0.  0.  0.  1.  0.  1.  0.  0.  1.  0.  0.  0.  0.\n",
      "  0.  1.  0.  1.  1.  0.  0.  1.  1.  0.  0.  1.  1.  0.  0.  0.  1.  0.\n",
      "  0.  0.  0.  0.  0.  0.  0.  0.  0.  1.  0.  1.  0.  0.  0.  1.  0.  0.\n",
      "  0.  0.  0.  1.  0.  0.  1.  1.  0.  1.  0.  0.  0.  0.  0.  0.  0.  0.\n",
      "  0.  0.  1.  0.  0.  0.  0.  0.  0.  0.]\n",
      "[ 21.  18.  19.  18.  18.  18.  19.  18.  20.  20.  19.  20.  18.  19.  18.\n",
      "  19.  18.  20.  18.  20.  18.  20.  19.  21.  18.  19.  19.  19.  22.  20.\n",
      "  19.  21.  18.  19.  20.  19.  21.  20.  19.  17.  19.  21.  20.  19.  21.\n",
      "  18.  22.  21.  19.  20.  21.  21.  20.  18.  21.  17.  19.  20.  19.  18.\n",
      "  18.  19.  17.  19.  21.  21.  18.  21.  22.  19.  19.  19.  18.  20.  19.\n",
      "  18.  19.  18.  16.  20.  21.  18.  19.  19.  19.  19.  19.  18.  20.  19.\n",
      "  19.  18.  18.  19.  20.  18.  20.  20.  21.  20.]\n"
     ]
    }
   ],
   "source": [
    "a=np.array([])\n",
    "b=np.array([])\n",
    "c=np.array([])\n",
    "d=np.array([])\n",
    "\n",
    "for m in M:\n",
    "    v=np.concatenate((m[0], m[1]), axis=None)\n",
    "    a=np.append(a,v[0])\n",
    "    b=np.append(b,v[1])\n",
    "    c=np.append(c,v[2])\n",
    "    d=np.append(d,v[3])\n",
    "print(a)\n",
    "print(b)\n",
    "print(c)\n",
    "print(d)"
   ]
  },
  {
   "cell_type": "code",
   "execution_count": 19,
   "metadata": {
    "collapsed": true
   },
   "outputs": [],
   "source": [
    "Ram=np.median(Ra)\n",
    "Rbm=np.median(Rb)\n",
    "Rcm=np.median(Rc)\n",
    "Rdm=np.median(Rd)\n",
    "Rem=np.median(Re)\n",
    "Rfm=np.median(Rf)\n",
    "Rgm=np.median(Rg)\n",
    "Rhm=np.median(Rh)\n",
    "\n",
    "#np.median(a)\n",
    "Rad=np.std(Ra)\n",
    "Rbd=np.std(Rb)\n",
    "Rcd=np.std(Rc)\n",
    "Rdd=np.std(Rd)\n",
    "Red=np.std(Re)\n",
    "Rfd=np.std(Rf)\n",
    "Rgd=np.std(Rg)\n",
    "Rhd=np.std(Rh)"
   ]
  },
  {
   "cell_type": "code",
   "execution_count": 20,
   "metadata": {},
   "outputs": [
    {
     "name": "stdout",
     "output_type": "stream",
     "text": [
      "0.246735294507 0.251046476441 0.211443206242\n",
      "0.0452154118597 0.0213105504358 0.0227586778976\n"
     ]
    }
   ],
   "source": [
    "print(Rad, Rcd, Red)\n",
    "print(Rbd, Rdd, Rfd)"
   ]
  },
  {
   "cell_type": "code",
   "execution_count": 21,
   "metadata": {
    "collapsed": true
   },
   "outputs": [],
   "source": [
    "A=np.median(a)\n",
    "B=np.median(b)\n",
    "C=np.median(c)\n",
    "D=np.median(d)\n"
   ]
  },
  {
   "cell_type": "code",
   "execution_count": 22,
   "metadata": {},
   "outputs": [
    {
     "name": "stdout",
     "output_type": "stream",
     "text": [
      "2.0 1.0\n",
      "0.0 19.0\n"
     ]
    }
   ],
   "source": [
    "print(A, B)\n",
    "print(C, D)"
   ]
  },
  {
   "cell_type": "code",
   "execution_count": 23,
   "metadata": {},
   "outputs": [
    {
     "name": "stdout",
     "output_type": "stream",
     "text": [
      "1.0 0.666666666667 0.8\n",
      "0.95 1.0 0.974358974359\n"
     ]
    }
   ],
   "source": [
    "print(Ram, Rcm, Rem) \n",
    "print(Rbm, Rdm, Rfm) \n"
   ]
  }
 ],
 "metadata": {
  "kernelspec": {
   "display_name": "Python 3",
   "language": "python",
   "name": "python3"
  },
  "language_info": {
   "codemirror_mode": {
    "name": "ipython",
    "version": 3
   },
   "file_extension": ".py",
   "mimetype": "text/x-python",
   "name": "python",
   "nbconvert_exporter": "python",
   "pygments_lexer": "ipython3",
   "version": "3.6.1"
  }
 },
 "nbformat": 4,
 "nbformat_minor": 2
}
