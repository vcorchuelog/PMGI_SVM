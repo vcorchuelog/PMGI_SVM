{
 "cells": [
  {
   "cell_type": "code",
   "execution_count": 1,
   "metadata": {},
   "outputs": [
    {
     "name": "stderr",
     "output_type": "stream",
     "text": [
      "C:\\ProgramData\\Anaconda3\\lib\\site-packages\\sklearn\\cross_validation.py:44: DeprecationWarning: This module was deprecated in version 0.18 in favor of the model_selection module into which all the refactored classes and functions are moved. Also note that the interface of the new CV iterators are different from that of this module. This module will be removed in 0.20.\n",
      "  \"This module will be removed in 0.20.\", DeprecationWarning)\n"
     ]
    }
   ],
   "source": [
    "# Liberias requeridas\n",
    "import numpy as np\n",
    "import pandas as pd\n",
    "import matplotlib.pyplot as plt\n",
    "from sklearn.cross_validation import train_test_split\n",
    "from sklearn.tree import DecisionTreeClassifier\n",
    "import itertools\n",
    "from sklearn import metrics\n",
    "from sklearn.model_selection import train_test_split\n",
    "from sklearn import preprocessing\n",
    "from sklearn import svm\n",
    "from sklearn import neighbors\n",
    "import io\n",
    "import requests"
   ]
  },
  {
   "cell_type": "code",
   "execution_count": 2,
   "metadata": {},
   "outputs": [
    {
     "data": {
      "text/html": [
       "<div>\n",
       "<style>\n",
       "    .dataframe thead tr:only-child th {\n",
       "        text-align: right;\n",
       "    }\n",
       "\n",
       "    .dataframe thead th {\n",
       "        text-align: left;\n",
       "    }\n",
       "\n",
       "    .dataframe tbody tr th {\n",
       "        vertical-align: top;\n",
       "    }\n",
       "</style>\n",
       "<table border=\"1\" class=\"dataframe\">\n",
       "  <thead>\n",
       "    <tr style=\"text-align: right;\">\n",
       "      <th></th>\n",
       "      <th>Number_Image</th>\n",
       "      <th>Disk</th>\n",
       "      <th>Fibers</th>\n",
       "      <th>Micro</th>\n",
       "      <th>Score</th>\n",
       "      <th>Number_eval</th>\n",
       "      <th>NSS1</th>\n",
       "      <th>NSS2</th>\n",
       "      <th>Result_of_eval</th>\n",
       "      <th>type</th>\n",
       "      <th>NSS3</th>\n",
       "      <th>NSS4</th>\n",
       "    </tr>\n",
       "  </thead>\n",
       "  <tbody>\n",
       "    <tr>\n",
       "      <th>0</th>\n",
       "      <td>1</td>\n",
       "      <td>5</td>\n",
       "      <td>6</td>\n",
       "      <td>3</td>\n",
       "      <td>60.733383</td>\n",
       "      <td>12</td>\n",
       "      <td>-3.184686</td>\n",
       "      <td>0.464171</td>\n",
       "      <td>1</td>\n",
       "      <td>1</td>\n",
       "      <td>2.014785</td>\n",
       "      <td>-0.286103</td>\n",
       "    </tr>\n",
       "    <tr>\n",
       "      <th>1</th>\n",
       "      <td>2</td>\n",
       "      <td>4</td>\n",
       "      <td>4</td>\n",
       "      <td>3</td>\n",
       "      <td>57.166782</td>\n",
       "      <td>12</td>\n",
       "      <td>-3.876074</td>\n",
       "      <td>-0.545602</td>\n",
       "      <td>1</td>\n",
       "      <td>1</td>\n",
       "      <td>1.519739</td>\n",
       "      <td>-0.425403</td>\n",
       "    </tr>\n",
       "    <tr>\n",
       "      <th>2</th>\n",
       "      <td>3</td>\n",
       "      <td>5</td>\n",
       "      <td>5</td>\n",
       "      <td>3</td>\n",
       "      <td>59.713664</td>\n",
       "      <td>12</td>\n",
       "      <td>-2.771356</td>\n",
       "      <td>0.991670</td>\n",
       "      <td>1</td>\n",
       "      <td>1</td>\n",
       "      <td>2.133971</td>\n",
       "      <td>-0.180300</td>\n",
       "    </tr>\n",
       "    <tr>\n",
       "      <th>3</th>\n",
       "      <td>4</td>\n",
       "      <td>5</td>\n",
       "      <td>5</td>\n",
       "      <td>3</td>\n",
       "      <td>56.423268</td>\n",
       "      <td>12</td>\n",
       "      <td>-3.100863</td>\n",
       "      <td>0.567651</td>\n",
       "      <td>1</td>\n",
       "      <td>1</td>\n",
       "      <td>1.969417</td>\n",
       "      <td>-0.130916</td>\n",
       "    </tr>\n",
       "    <tr>\n",
       "      <th>4</th>\n",
       "      <td>5</td>\n",
       "      <td>4</td>\n",
       "      <td>4</td>\n",
       "      <td>3</td>\n",
       "      <td>54.409273</td>\n",
       "      <td>12</td>\n",
       "      <td>-3.146888</td>\n",
       "      <td>0.504879</td>\n",
       "      <td>1</td>\n",
       "      <td>1</td>\n",
       "      <td>1.991486</td>\n",
       "      <td>-0.305380</td>\n",
       "    </tr>\n",
       "  </tbody>\n",
       "</table>\n",
       "</div>"
      ],
      "text/plain": [
       "   Number_Image  Disk  Fibers  Micro      Score  Number_eval      NSS1  \\\n",
       "0             1     5       6      3  60.733383           12 -3.184686   \n",
       "1             2     4       4      3  57.166782           12 -3.876074   \n",
       "2             3     5       5      3  59.713664           12 -2.771356   \n",
       "3             4     5       5      3  56.423268           12 -3.100863   \n",
       "4             5     4       4      3  54.409273           12 -3.146888   \n",
       "\n",
       "       NSS2  Result_of_eval  type      NSS3      NSS4  \n",
       "0  0.464171               1     1  2.014785 -0.286103  \n",
       "1 -0.545602               1     1  1.519739 -0.425403  \n",
       "2  0.991670               1     1  2.133971 -0.180300  \n",
       "3  0.567651               1     1  1.969417 -0.130916  \n",
       "4  0.504879               1     1  1.991486 -0.305380  "
      ]
     },
     "execution_count": 2,
     "metadata": {},
     "output_type": "execute_result"
    }
   ],
   "source": [
    "mydata = pd.read_csv('GT_4NSS.csv')\n",
    "mydata.head()"
   ]
  },
  {
   "cell_type": "code",
   "execution_count": 3,
   "metadata": {},
   "outputs": [
    {
     "data": {
      "text/html": [
       "<div>\n",
       "<style>\n",
       "    .dataframe thead tr:only-child th {\n",
       "        text-align: right;\n",
       "    }\n",
       "\n",
       "    .dataframe thead th {\n",
       "        text-align: left;\n",
       "    }\n",
       "\n",
       "    .dataframe tbody tr th {\n",
       "        vertical-align: top;\n",
       "    }\n",
       "</style>\n",
       "<table border=\"1\" class=\"dataframe\">\n",
       "  <thead>\n",
       "    <tr style=\"text-align: right;\">\n",
       "      <th></th>\n",
       "      <th>NSS1</th>\n",
       "      <th>NSS2</th>\n",
       "      <th>Result_of_eval</th>\n",
       "      <th>NSS3</th>\n",
       "      <th>NSS4</th>\n",
       "    </tr>\n",
       "  </thead>\n",
       "  <tbody>\n",
       "    <tr>\n",
       "      <th>0</th>\n",
       "      <td>-3.184686</td>\n",
       "      <td>0.464171</td>\n",
       "      <td>1</td>\n",
       "      <td>2.014785</td>\n",
       "      <td>-0.286103</td>\n",
       "    </tr>\n",
       "    <tr>\n",
       "      <th>1</th>\n",
       "      <td>-3.876074</td>\n",
       "      <td>-0.545602</td>\n",
       "      <td>1</td>\n",
       "      <td>1.519739</td>\n",
       "      <td>-0.425403</td>\n",
       "    </tr>\n",
       "    <tr>\n",
       "      <th>2</th>\n",
       "      <td>-2.771356</td>\n",
       "      <td>0.991670</td>\n",
       "      <td>1</td>\n",
       "      <td>2.133971</td>\n",
       "      <td>-0.180300</td>\n",
       "    </tr>\n",
       "    <tr>\n",
       "      <th>3</th>\n",
       "      <td>-3.100863</td>\n",
       "      <td>0.567651</td>\n",
       "      <td>1</td>\n",
       "      <td>1.969417</td>\n",
       "      <td>-0.130916</td>\n",
       "    </tr>\n",
       "    <tr>\n",
       "      <th>4</th>\n",
       "      <td>-3.146888</td>\n",
       "      <td>0.504879</td>\n",
       "      <td>1</td>\n",
       "      <td>1.991486</td>\n",
       "      <td>-0.305380</td>\n",
       "    </tr>\n",
       "  </tbody>\n",
       "</table>\n",
       "</div>"
      ],
      "text/plain": [
       "       NSS1      NSS2  Result_of_eval      NSS3      NSS4\n",
       "0 -3.184686  0.464171               1  2.014785 -0.286103\n",
       "1 -3.876074 -0.545602               1  1.519739 -0.425403\n",
       "2 -2.771356  0.991670               1  2.133971 -0.180300\n",
       "3 -3.100863  0.567651               1  1.969417 -0.130916\n",
       "4 -3.146888  0.504879               1  1.991486 -0.305380"
      ]
     },
     "execution_count": 3,
     "metadata": {},
     "output_type": "execute_result"
    }
   ],
   "source": [
    "mydata=mydata.iloc[:, [6,7,8,10,11]]\n",
    "mydata.head() "
   ]
  },
  {
   "cell_type": "code",
   "execution_count": 4,
   "metadata": {},
   "outputs": [
    {
     "data": {
      "text/plain": [
       "count    80.000000\n",
       "mean      0.612500\n",
       "std       0.490253\n",
       "min       0.000000\n",
       "25%       0.000000\n",
       "50%       1.000000\n",
       "75%       1.000000\n",
       "max       1.000000\n",
       "Name: Result_of_eval, dtype: float64"
      ]
     },
     "execution_count": 4,
     "metadata": {},
     "output_type": "execute_result"
    }
   ],
   "source": [
    "mydata['Result_of_eval'].describe()\n"
   ]
  },
  {
   "cell_type": "code",
   "execution_count": 5,
   "metadata": {},
   "outputs": [
    {
     "data": {
      "text/html": [
       "<div>\n",
       "<style>\n",
       "    .dataframe thead tr:only-child th {\n",
       "        text-align: right;\n",
       "    }\n",
       "\n",
       "    .dataframe thead th {\n",
       "        text-align: left;\n",
       "    }\n",
       "\n",
       "    .dataframe tbody tr th {\n",
       "        vertical-align: top;\n",
       "    }\n",
       "</style>\n",
       "<table border=\"1\" class=\"dataframe\">\n",
       "  <thead>\n",
       "    <tr style=\"text-align: right;\">\n",
       "      <th></th>\n",
       "      <th>NSS1</th>\n",
       "      <th>NSS2</th>\n",
       "      <th>Result_of_eval</th>\n",
       "      <th>NSS3</th>\n",
       "      <th>NSS4</th>\n",
       "    </tr>\n",
       "  </thead>\n",
       "  <tbody>\n",
       "    <tr>\n",
       "      <th>3</th>\n",
       "      <td>-3.100863</td>\n",
       "      <td>0.567651</td>\n",
       "      <td>1</td>\n",
       "      <td>1.969417</td>\n",
       "      <td>-0.130916</td>\n",
       "    </tr>\n",
       "    <tr>\n",
       "      <th>22</th>\n",
       "      <td>-5.381577</td>\n",
       "      <td>-3.491304</td>\n",
       "      <td>0</td>\n",
       "      <td>-1.097462</td>\n",
       "      <td>-0.318131</td>\n",
       "    </tr>\n",
       "    <tr>\n",
       "      <th>7</th>\n",
       "      <td>15.240882</td>\n",
       "      <td>-1.343729</td>\n",
       "      <td>1</td>\n",
       "      <td>0.754215</td>\n",
       "      <td>-0.207004</td>\n",
       "    </tr>\n",
       "    <tr>\n",
       "      <th>26</th>\n",
       "      <td>-5.203271</td>\n",
       "      <td>-3.205209</td>\n",
       "      <td>0</td>\n",
       "      <td>-1.063722</td>\n",
       "      <td>-0.241252</td>\n",
       "    </tr>\n",
       "    <tr>\n",
       "      <th>42</th>\n",
       "      <td>15.171896</td>\n",
       "      <td>-1.470034</td>\n",
       "      <td>1</td>\n",
       "      <td>0.384660</td>\n",
       "      <td>0.304700</td>\n",
       "    </tr>\n",
       "  </tbody>\n",
       "</table>\n",
       "</div>"
      ],
      "text/plain": [
       "         NSS1      NSS2  Result_of_eval      NSS3      NSS4\n",
       "3   -3.100863  0.567651               1  1.969417 -0.130916\n",
       "22  -5.381577 -3.491304               0 -1.097462 -0.318131\n",
       "7   15.240882 -1.343729               1  0.754215 -0.207004\n",
       "26  -5.203271 -3.205209               0 -1.063722 -0.241252\n",
       "42  15.171896 -1.470034               1  0.384660  0.304700"
      ]
     },
     "execution_count": 5,
     "metadata": {},
     "output_type": "execute_result"
    }
   ],
   "source": [
    "data, test= train_test_split(mydata, test_size = 0.2, random_state=0)\n",
    "data.head()"
   ]
  },
  {
   "cell_type": "code",
   "execution_count": 6,
   "metadata": {},
   "outputs": [
    {
     "data": {
      "text/html": [
       "<div>\n",
       "<style>\n",
       "    .dataframe thead tr:only-child th {\n",
       "        text-align: right;\n",
       "    }\n",
       "\n",
       "    .dataframe thead th {\n",
       "        text-align: left;\n",
       "    }\n",
       "\n",
       "    .dataframe tbody tr th {\n",
       "        vertical-align: top;\n",
       "    }\n",
       "</style>\n",
       "<table border=\"1\" class=\"dataframe\">\n",
       "  <thead>\n",
       "    <tr style=\"text-align: right;\">\n",
       "      <th></th>\n",
       "      <th>NSS1</th>\n",
       "      <th>NSS2</th>\n",
       "      <th>C</th>\n",
       "      <th>NSS3</th>\n",
       "      <th>NSS4</th>\n",
       "    </tr>\n",
       "  </thead>\n",
       "  <tbody>\n",
       "    <tr>\n",
       "      <th>3</th>\n",
       "      <td>-3.100863</td>\n",
       "      <td>0.567651</td>\n",
       "      <td>1</td>\n",
       "      <td>1.969417</td>\n",
       "      <td>-0.130916</td>\n",
       "    </tr>\n",
       "    <tr>\n",
       "      <th>22</th>\n",
       "      <td>-5.381577</td>\n",
       "      <td>-3.491304</td>\n",
       "      <td>0</td>\n",
       "      <td>-1.097462</td>\n",
       "      <td>-0.318131</td>\n",
       "    </tr>\n",
       "    <tr>\n",
       "      <th>7</th>\n",
       "      <td>15.240882</td>\n",
       "      <td>-1.343729</td>\n",
       "      <td>1</td>\n",
       "      <td>0.754215</td>\n",
       "      <td>-0.207004</td>\n",
       "    </tr>\n",
       "    <tr>\n",
       "      <th>26</th>\n",
       "      <td>-5.203271</td>\n",
       "      <td>-3.205209</td>\n",
       "      <td>0</td>\n",
       "      <td>-1.063722</td>\n",
       "      <td>-0.241252</td>\n",
       "    </tr>\n",
       "    <tr>\n",
       "      <th>42</th>\n",
       "      <td>15.171896</td>\n",
       "      <td>-1.470034</td>\n",
       "      <td>1</td>\n",
       "      <td>0.384660</td>\n",
       "      <td>0.304700</td>\n",
       "    </tr>\n",
       "  </tbody>\n",
       "</table>\n",
       "</div>"
      ],
      "text/plain": [
       "         NSS1      NSS2  C      NSS3      NSS4\n",
       "3   -3.100863  0.567651  1  1.969417 -0.130916\n",
       "22  -5.381577 -3.491304  0 -1.097462 -0.318131\n",
       "7   15.240882 -1.343729  1  0.754215 -0.207004\n",
       "26  -5.203271 -3.205209  0 -1.063722 -0.241252\n",
       "42  15.171896 -1.470034  1  0.384660  0.304700"
      ]
     },
     "execution_count": 6,
     "metadata": {},
     "output_type": "execute_result"
    }
   ],
   "source": [
    "data = data.rename(columns = {data.columns.values[2]:'C'}) # Cambiamos el nombre de la última columna por \"C\" de clase\n",
    "data.head()"
   ]
  },
  {
   "cell_type": "code",
   "execution_count": 7,
   "metadata": {},
   "outputs": [
    {
     "data": {
      "text/html": [
       "<div>\n",
       "<style>\n",
       "    .dataframe thead tr:only-child th {\n",
       "        text-align: right;\n",
       "    }\n",
       "\n",
       "    .dataframe thead th {\n",
       "        text-align: left;\n",
       "    }\n",
       "\n",
       "    .dataframe tbody tr th {\n",
       "        vertical-align: top;\n",
       "    }\n",
       "</style>\n",
       "<table border=\"1\" class=\"dataframe\">\n",
       "  <thead>\n",
       "    <tr style=\"text-align: right;\">\n",
       "      <th></th>\n",
       "      <th>NSS1</th>\n",
       "      <th>NSS2</th>\n",
       "      <th>Result_of_eval</th>\n",
       "      <th>NSS3</th>\n",
       "      <th>NSS4</th>\n",
       "    </tr>\n",
       "  </thead>\n",
       "  <tbody>\n",
       "    <tr>\n",
       "      <th>50</th>\n",
       "      <td>1.693871</td>\n",
       "      <td>2.065955</td>\n",
       "      <td>1</td>\n",
       "      <td>-0.976759</td>\n",
       "      <td>0.741771</td>\n",
       "    </tr>\n",
       "    <tr>\n",
       "      <th>27</th>\n",
       "      <td>2.365539</td>\n",
       "      <td>2.308971</td>\n",
       "      <td>1</td>\n",
       "      <td>-0.527195</td>\n",
       "      <td>-0.516220</td>\n",
       "    </tr>\n",
       "    <tr>\n",
       "      <th>30</th>\n",
       "      <td>-5.298552</td>\n",
       "      <td>-3.355324</td>\n",
       "      <td>0</td>\n",
       "      <td>-1.052359</td>\n",
       "      <td>-0.306988</td>\n",
       "    </tr>\n",
       "    <tr>\n",
       "      <th>77</th>\n",
       "      <td>-3.838047</td>\n",
       "      <td>-0.427517</td>\n",
       "      <td>1</td>\n",
       "      <td>1.707117</td>\n",
       "      <td>-0.682892</td>\n",
       "    </tr>\n",
       "    <tr>\n",
       "      <th>45</th>\n",
       "      <td>-3.714805</td>\n",
       "      <td>-0.428853</td>\n",
       "      <td>1</td>\n",
       "      <td>1.087971</td>\n",
       "      <td>0.170843</td>\n",
       "    </tr>\n",
       "  </tbody>\n",
       "</table>\n",
       "</div>"
      ],
      "text/plain": [
       "        NSS1      NSS2  Result_of_eval      NSS3      NSS4\n",
       "50  1.693871  2.065955               1 -0.976759  0.741771\n",
       "27  2.365539  2.308971               1 -0.527195 -0.516220\n",
       "30 -5.298552 -3.355324               0 -1.052359 -0.306988\n",
       "77 -3.838047 -0.427517               1  1.707117 -0.682892\n",
       "45 -3.714805 -0.428853               1  1.087971  0.170843"
      ]
     },
     "execution_count": 7,
     "metadata": {},
     "output_type": "execute_result"
    }
   ],
   "source": [
    "test.head()"
   ]
  },
  {
   "cell_type": "code",
   "execution_count": 8,
   "metadata": {},
   "outputs": [
    {
     "data": {
      "text/html": [
       "<div>\n",
       "<style>\n",
       "    .dataframe thead tr:only-child th {\n",
       "        text-align: right;\n",
       "    }\n",
       "\n",
       "    .dataframe thead th {\n",
       "        text-align: left;\n",
       "    }\n",
       "\n",
       "    .dataframe tbody tr th {\n",
       "        vertical-align: top;\n",
       "    }\n",
       "</style>\n",
       "<table border=\"1\" class=\"dataframe\">\n",
       "  <thead>\n",
       "    <tr style=\"text-align: right;\">\n",
       "      <th></th>\n",
       "      <th>NSS1</th>\n",
       "      <th>NSS2</th>\n",
       "      <th>C</th>\n",
       "      <th>NSS3</th>\n",
       "      <th>NSS4</th>\n",
       "    </tr>\n",
       "  </thead>\n",
       "  <tbody>\n",
       "    <tr>\n",
       "      <th>50</th>\n",
       "      <td>1.693871</td>\n",
       "      <td>2.065955</td>\n",
       "      <td>1</td>\n",
       "      <td>-0.976759</td>\n",
       "      <td>0.741771</td>\n",
       "    </tr>\n",
       "    <tr>\n",
       "      <th>27</th>\n",
       "      <td>2.365539</td>\n",
       "      <td>2.308971</td>\n",
       "      <td>1</td>\n",
       "      <td>-0.527195</td>\n",
       "      <td>-0.516220</td>\n",
       "    </tr>\n",
       "    <tr>\n",
       "      <th>30</th>\n",
       "      <td>-5.298552</td>\n",
       "      <td>-3.355324</td>\n",
       "      <td>0</td>\n",
       "      <td>-1.052359</td>\n",
       "      <td>-0.306988</td>\n",
       "    </tr>\n",
       "    <tr>\n",
       "      <th>77</th>\n",
       "      <td>-3.838047</td>\n",
       "      <td>-0.427517</td>\n",
       "      <td>1</td>\n",
       "      <td>1.707117</td>\n",
       "      <td>-0.682892</td>\n",
       "    </tr>\n",
       "    <tr>\n",
       "      <th>45</th>\n",
       "      <td>-3.714805</td>\n",
       "      <td>-0.428853</td>\n",
       "      <td>1</td>\n",
       "      <td>1.087971</td>\n",
       "      <td>0.170843</td>\n",
       "    </tr>\n",
       "  </tbody>\n",
       "</table>\n",
       "</div>"
      ],
      "text/plain": [
       "        NSS1      NSS2  C      NSS3      NSS4\n",
       "50  1.693871  2.065955  1 -0.976759  0.741771\n",
       "27  2.365539  2.308971  1 -0.527195 -0.516220\n",
       "30 -5.298552 -3.355324  0 -1.052359 -0.306988\n",
       "77 -3.838047 -0.427517  1  1.707117 -0.682892\n",
       "45 -3.714805 -0.428853  1  1.087971  0.170843"
      ]
     },
     "execution_count": 8,
     "metadata": {},
     "output_type": "execute_result"
    }
   ],
   "source": [
    "test = test.rename(columns = {test.columns.values[2]:'C'}) # Cambiamos el nombre de la última columna por \"C\" de clase\n",
    "test.head()"
   ]
  },
  {
   "cell_type": "code",
   "execution_count": 9,
   "metadata": {
    "collapsed": true
   },
   "outputs": [],
   "source": [
    "x_train = data.drop('C', axis = 1)\n",
    "y_train = data['C']\n",
    "\n",
    "x_test = test.drop('C', axis = 1)\n",
    "y_test = test['C']"
   ]
  },
  {
   "cell_type": "code",
   "execution_count": 10,
   "metadata": {},
   "outputs": [
    {
     "name": "stdout",
     "output_type": "stream",
     "text": [
      "Original dataset shape trainval Counter({1: 29, 0: 22})\n",
      "Original dataset shape testval Counter({1: 8, 0: 5})\n"
     ]
    }
   ],
   "source": [
    "from collections import Counter\n",
    "\n",
    "xs_trainval1, xs_testval1, ys_trainval1, ys_testval1 = train_test_split(x_train, y_train, test_size = 0.2, random_state=0)\n",
    "print('Original dataset shape trainval {}'.format(Counter(ys_trainval1)))\n",
    "print('Original dataset shape testval {}'.format(Counter(ys_testval1)))"
   ]
  },
  {
   "cell_type": "code",
   "execution_count": 11,
   "metadata": {},
   "outputs": [
    {
     "name": "stdout",
     "output_type": "stream",
     "text": [
      "\n",
      "############## Accuracy Linear SVM  ##################\n",
      "0.615384615385\n",
      "[[1 4]\n",
      " [1 7]]\n"
     ]
    }
   ],
   "source": [
    "SVMl = svm.SVC(kernel='linear')\n",
    "\n",
    "SVMl.fit(xs_trainval1, ys_trainval1)\n",
    "SVMl_predict = SVMl.predict(xs_testval1)\n",
    "\n",
    "print(\"\\n############## Accuracy Linear SVM  ##################\")\n",
    "print(metrics.accuracy_score(ys_testval1, SVMl_predict))\n",
    "print(metrics.confusion_matrix(ys_testval1, SVMl_predict))"
   ]
  },
  {
   "cell_type": "code",
   "execution_count": 12,
   "metadata": {},
   "outputs": [
    {
     "name": "stdout",
     "output_type": "stream",
     "text": [
      "\n",
      "############## Accuracy SVM RBF ##################\n",
      "0.538461538462\n",
      "[[1 4]\n",
      " [2 6]]\n"
     ]
    }
   ],
   "source": [
    "\n",
    "SVMrbf = svm.SVC(kernel='rbf')\n",
    "\n",
    "SVMrbf.fit(xs_trainval1, ys_trainval1)\n",
    "SVMrbf_predict = SVMrbf.predict(xs_testval1)\n",
    "\n",
    "print(\"\\n############## Accuracy SVM RBF ##################\")\n",
    "print(metrics.accuracy_score(ys_testval1, SVMrbf_predict))\n",
    "print(metrics.confusion_matrix(ys_testval1, SVMrbf_predict))"
   ]
  },
  {
   "cell_type": "code",
   "execution_count": 13,
   "metadata": {},
   "outputs": [
    {
     "name": "stdout",
     "output_type": "stream",
     "text": [
      "\n",
      "############## Accuracy SVM sigmoid ##################\n",
      "0.307692307692\n",
      "[[2 3]\n",
      " [6 2]]\n"
     ]
    }
   ],
   "source": [
    "SVMsg = svm.SVC(kernel='sigmoid')\n",
    "\n",
    "SVMsg.fit(xs_trainval1, ys_trainval1)\n",
    "SVMsg_predict = SVMsg.predict(xs_testval1)\n",
    "\n",
    "print(\"\\n############## Accuracy SVM sigmoid ##################\")\n",
    "print(metrics.accuracy_score(ys_testval1, SVMsg_predict))\n",
    "print(metrics.confusion_matrix(ys_testval1, SVMsg_predict))"
   ]
  },
  {
   "cell_type": "code",
   "execution_count": 14,
   "metadata": {},
   "outputs": [
    {
     "name": "stdout",
     "output_type": "stream",
     "text": [
      "\n",
      "############## Accuracy SVM POLY ##################\n",
      "0.538461538462\n",
      "[[1 4]\n",
      " [2 6]]\n"
     ]
    }
   ],
   "source": [
    "SVMpoly = svm.SVC(kernel='poly')\n",
    "\n",
    "SVMpoly.fit(xs_trainval1, ys_trainval1)\n",
    "SVMpoly_predict = SVMpoly.predict(xs_testval1)\n",
    "\n",
    "print(\"\\n############## Accuracy SVM POLY ##################\")\n",
    "print(metrics.accuracy_score(ys_testval1, SVMpoly_predict))\n",
    "print(metrics.confusion_matrix(ys_testval1, SVMpoly_predict))"
   ]
  },
  {
   "cell_type": "code",
   "execution_count": 15,
   "metadata": {
    "collapsed": true
   },
   "outputs": [],
   "source": [
    "import statistics as stats\n",
    "import pandas as pd\n",
    "\n",
    "m=[]\n",
    "M=[]\n",
    "C=[]\n",
    "report=[]\n",
    "R=[]\n",
    "for i in range(1,101):\n",
    "    xs_train, xs_test, ys_train, ys_test = train_test_split(x_train, y_train, test_size = 0.2, random_state=None)\n",
    "    SVMl1t = svm.SVC(kernel='linear')\n",
    "    SVMl1t.fit(xs_train, ys_train)\n",
    "    SVMl1t_predict = SVMl1t.predict(x_test)\n",
    "    cm=metrics.confusion_matrix(y_test, SVMl1t_predict)\n",
    "    me=metrics.accuracy_score(y_test, SVMl1t_predict)\n",
    "    cr=metrics.classification_report(y_test, SVMl1t_predict)\n",
    "    report = pd.DataFrame(list(metrics.precision_recall_fscore_support(y_test, SVMl1t_predict))).T\n",
    "    m.append(me)\n",
    "    M.append(cm)\n",
    "    C.append(cr)\n",
    "    R.append(report)"
   ]
  },
  {
   "cell_type": "code",
   "execution_count": 16,
   "metadata": {},
   "outputs": [
    {
     "name": "stdout",
     "output_type": "stream",
     "text": [
      "[ 4.  4.  4.  4.  4.  4.  4.  4.  4.  4.  4.  4.  4.  4.  4.  4.  4.  4.\n",
      "  4.  4.  4.  4.  4.  4.  4.  4.  4.  4.  4.  4.  4.  4.  4.  4.  4.  4.\n",
      "  4.  4.  4.  4.  4.  4.  4.  4.  4.  4.  4.  4.  4.  4.  4.  4.  4.  4.\n",
      "  4.  4.  4.  4.  4.  4.  4.  4.  4.  4.  4.  4.  4.  4.  4.  4.  4.  4.\n",
      "  4.  4.  4.  4.  4.  4.  4.  4.  4.  4.  4.  4.  4.  4.  4.  4.  4.  4.\n",
      "  4.  4.  4.  4.  4.  4.  4.  4.  4.  4.]\n",
      "[ 0.  0.  0.  0.  0.  0.  0.  0.  0.  0.  0.  0.  0.  0.  0.  0.  0.  0.\n",
      "  0.  0.  0.  0.  0.  0.  0.  0.  0.  0.  0.  0.  0.  0.  0.  0.  0.  0.\n",
      "  0.  0.  0.  0.  0.  0.  0.  0.  0.  0.  0.  0.  0.  0.  0.  0.  0.  0.\n",
      "  0.  0.  0.  0.  0.  0.  0.  0.  0.  0.  0.  0.  0.  0.  0.  0.  0.  0.\n",
      "  0.  0.  0.  0.  0.  0.  0.  0.  0.  0.  0.  0.  0.  0.  0.  0.  0.  0.\n",
      "  0.  0.  0.  0.  0.  0.  0.  0.  0.  0.]\n",
      "[ 2.  7.  2.  3.  2.  2.  2.  2.  7.  3.  2.  2.  3.  2.  2.  2.  2.  2.\n",
      "  2.  2.  3.  7.  2.  2.  2.  2.  7.  2.  7.  2.  2.  2.  2.  2.  2.  2.\n",
      "  2.  2.  2.  2.  2.  2.  2.  2.  2.  2.  2.  3.  3.  7.  2.  2.  3.  3.\n",
      "  2.  2.  3.  2.  2.  2.  7.  2.  2.  7.  2.  2.  2.  7.  7.  2.  2.  2.\n",
      "  2.  2.  2.  7.  2.  2.  7.  2.  3.  2.  2.  3.  2.  3.  2.  2.  2.  2.\n",
      "  2.  2.  2.  2.  7.  2.  2.  2.  2.  3.]\n",
      "[ 10.   5.  10.   9.  10.  10.  10.  10.   5.   9.  10.  10.   9.  10.  10.\n",
      "  10.  10.  10.  10.  10.   9.   5.  10.  10.  10.  10.   5.  10.   5.  10.\n",
      "  10.  10.  10.  10.  10.  10.  10.  10.  10.  10.  10.  10.  10.  10.  10.\n",
      "  10.  10.   9.   9.   5.  10.  10.   9.   9.  10.  10.   9.  10.  10.  10.\n",
      "   5.  10.  10.   5.  10.  10.  10.   5.   5.  10.  10.  10.  10.  10.  10.\n",
      "   5.  10.  10.   5.  10.   9.  10.  10.   9.  10.   9.  10.  10.  10.  10.\n",
      "  10.  10.  10.  10.   5.  10.  10.  10.  10.   9.]\n"
     ]
    }
   ],
   "source": [
    "a=np.array([])\n",
    "b=np.array([])\n",
    "c=np.array([])\n",
    "d=np.array([])\n",
    "\n",
    "for m in M:\n",
    "    v=np.concatenate((m[0], m[1]), axis=None)\n",
    "    a=np.append(a,v[0])\n",
    "    b=np.append(b,v[1])\n",
    "    c=np.append(c,v[2])\n",
    "    d=np.append(d,v[3])\n",
    "print(a)\n",
    "print(b)\n",
    "print(c)\n",
    "print(d)"
   ]
  },
  {
   "cell_type": "code",
   "execution_count": 17,
   "metadata": {},
   "outputs": [
    {
     "name": "stdout",
     "output_type": "stream",
     "text": [
      "[ 0.66666667  0.36363636  0.66666667  0.57142857  0.66666667  0.66666667\n",
      "  0.66666667  0.66666667  0.36363636  0.57142857  0.66666667  0.66666667\n",
      "  0.57142857  0.66666667  0.66666667  0.66666667  0.66666667  0.66666667\n",
      "  0.66666667  0.66666667  0.57142857  0.36363636  0.66666667  0.66666667\n",
      "  0.66666667  0.66666667  0.36363636  0.66666667  0.36363636  0.66666667\n",
      "  0.66666667  0.66666667  0.66666667  0.66666667  0.66666667  0.66666667\n",
      "  0.66666667  0.66666667  0.66666667  0.66666667  0.66666667  0.66666667\n",
      "  0.66666667  0.66666667  0.66666667  0.66666667  0.66666667  0.57142857\n",
      "  0.57142857  0.36363636  0.66666667  0.66666667  0.57142857  0.57142857\n",
      "  0.66666667  0.66666667  0.57142857  0.66666667  0.66666667  0.66666667\n",
      "  0.36363636  0.66666667  0.66666667  0.36363636  0.66666667  0.66666667\n",
      "  0.66666667  0.36363636  0.36363636  0.66666667  0.66666667  0.66666667\n",
      "  0.66666667  0.66666667  0.66666667  0.36363636  0.66666667  0.66666667\n",
      "  0.36363636  0.66666667  0.57142857  0.66666667  0.66666667  0.57142857\n",
      "  0.66666667  0.57142857  0.66666667  0.66666667  0.66666667  0.66666667\n",
      "  0.66666667  0.66666667  0.66666667  0.66666667  0.36363636  0.66666667\n",
      "  0.66666667  0.66666667  0.66666667  0.57142857]\n",
      "[ 1.  1.  1.  1.  1.  1.  1.  1.  1.  1.  1.  1.  1.  1.  1.  1.  1.  1.\n",
      "  1.  1.  1.  1.  1.  1.  1.  1.  1.  1.  1.  1.  1.  1.  1.  1.  1.  1.\n",
      "  1.  1.  1.  1.  1.  1.  1.  1.  1.  1.  1.  1.  1.  1.  1.  1.  1.  1.\n",
      "  1.  1.  1.  1.  1.  1.  1.  1.  1.  1.  1.  1.  1.  1.  1.  1.  1.  1.\n",
      "  1.  1.  1.  1.  1.  1.  1.  1.  1.  1.  1.  1.  1.  1.  1.  1.  1.  1.\n",
      "  1.  1.  1.  1.  1.  1.  1.  1.  1.  1.]\n",
      "[ 1.  1.  1.  1.  1.  1.  1.  1.  1.  1.  1.  1.  1.  1.  1.  1.  1.  1.\n",
      "  1.  1.  1.  1.  1.  1.  1.  1.  1.  1.  1.  1.  1.  1.  1.  1.  1.  1.\n",
      "  1.  1.  1.  1.  1.  1.  1.  1.  1.  1.  1.  1.  1.  1.  1.  1.  1.  1.\n",
      "  1.  1.  1.  1.  1.  1.  1.  1.  1.  1.  1.  1.  1.  1.  1.  1.  1.  1.\n",
      "  1.  1.  1.  1.  1.  1.  1.  1.  1.  1.  1.  1.  1.  1.  1.  1.  1.  1.\n",
      "  1.  1.  1.  1.  1.  1.  1.  1.  1.  1.]\n",
      "[ 0.83333333  0.41666667  0.83333333  0.75        0.83333333  0.83333333\n",
      "  0.83333333  0.83333333  0.41666667  0.75        0.83333333  0.83333333\n",
      "  0.75        0.83333333  0.83333333  0.83333333  0.83333333  0.83333333\n",
      "  0.83333333  0.83333333  0.75        0.41666667  0.83333333  0.83333333\n",
      "  0.83333333  0.83333333  0.41666667  0.83333333  0.41666667  0.83333333\n",
      "  0.83333333  0.83333333  0.83333333  0.83333333  0.83333333  0.83333333\n",
      "  0.83333333  0.83333333  0.83333333  0.83333333  0.83333333  0.83333333\n",
      "  0.83333333  0.83333333  0.83333333  0.83333333  0.83333333  0.75        0.75\n",
      "  0.41666667  0.83333333  0.83333333  0.75        0.75        0.83333333\n",
      "  0.83333333  0.75        0.83333333  0.83333333  0.83333333  0.41666667\n",
      "  0.83333333  0.83333333  0.41666667  0.83333333  0.83333333  0.83333333\n",
      "  0.41666667  0.41666667  0.83333333  0.83333333  0.83333333  0.83333333\n",
      "  0.83333333  0.83333333  0.41666667  0.83333333  0.83333333  0.41666667\n",
      "  0.83333333  0.75        0.83333333  0.83333333  0.75        0.83333333\n",
      "  0.75        0.83333333  0.83333333  0.83333333  0.83333333  0.83333333\n",
      "  0.83333333  0.83333333  0.83333333  0.41666667  0.83333333  0.83333333\n",
      "  0.83333333  0.83333333  0.75      ]\n"
     ]
    }
   ],
   "source": [
    "Ra=np.array([])\n",
    "Rb=np.array([])\n",
    "Rc=np.array([])\n",
    "Rd=np.array([])\n",
    "\n",
    "for report in R:\n",
    "    w=np.concatenate((report[0], report[1]), axis=None)\n",
    "    Ra=np.append(Ra,w[0])\n",
    "    Rb=np.append(Rb,w[1])\n",
    "    Rc=np.append(Rc,w[2])\n",
    "    Rd=np.append(Rd,w[3])\n",
    "print(Ra)\n",
    "print(Rb)\n",
    "print(Rc)\n",
    "print(Rd)"
   ]
  },
  {
   "cell_type": "code",
   "execution_count": 18,
   "metadata": {
    "collapsed": true
   },
   "outputs": [],
   "source": [
    "Re=np.array([])\n",
    "Rf=np.array([])\n",
    "Rg=np.array([])\n",
    "Rh=np.array([])\n",
    "\n",
    "for report in R:\n",
    "    y=np.concatenate((report[2], report[3]), axis=None)\n",
    "    Re=np.append(Re,y[0])\n",
    "    Rf=np.append(Rf,y[1])\n",
    "    Rg=np.append(Rg,y[2])\n",
    "    Rh=np.append(Rh,y[3])"
   ]
  },
  {
   "cell_type": "code",
   "execution_count": 19,
   "metadata": {
    "collapsed": true
   },
   "outputs": [],
   "source": [
    "Ram=np.median(Ra)\n",
    "Rbm=np.median(Rb)\n",
    "Rcm=np.median(Rc)\n",
    "Rdm=np.median(Rd)\n",
    "Rem=np.median(Re)\n",
    "Rfm=np.median(Rf)\n",
    "Rgm=np.median(Rg)\n",
    "Rhm=np.median(Rh)\n",
    "\n",
    "#np.median(a)\n",
    "Rad=np.std(Ra)\n",
    "Rbd=np.std(Rb)\n",
    "Rcd=np.std(Rc)\n",
    "Rdd=np.std(Rd)\n",
    "Red=np.std(Re)\n",
    "Rfd=np.std(Rf)\n",
    "Rgd=np.std(Rg)\n",
    "Rhd=np.std(Rh)"
   ]
  },
  {
   "cell_type": "code",
   "execution_count": 20,
   "metadata": {},
   "outputs": [
    {
     "name": "stdout",
     "output_type": "stream",
     "text": [
      "0.102157017849 0.0 0.0893608772964\n",
      "0.0 0.138734358478 0.106701897111\n"
     ]
    }
   ],
   "source": [
    "print(Rad, Rcd, Red)\n",
    "print(Rbd, Rdd, Rfd)"
   ]
  },
  {
   "cell_type": "code",
   "execution_count": 21,
   "metadata": {
    "collapsed": true
   },
   "outputs": [],
   "source": [
    "A=np.median(a)\n",
    "B=np.median(b)\n",
    "C=np.median(c)\n",
    "D=np.median(d)\n"
   ]
  },
  {
   "cell_type": "code",
   "execution_count": 22,
   "metadata": {},
   "outputs": [
    {
     "name": "stdout",
     "output_type": "stream",
     "text": [
      "4.0 0.0\n",
      "2.0 10.0\n"
     ]
    }
   ],
   "source": [
    "print(A, B)\n",
    "print(C, D)"
   ]
  },
  {
   "cell_type": "code",
   "execution_count": 23,
   "metadata": {},
   "outputs": [
    {
     "name": "stdout",
     "output_type": "stream",
     "text": [
      "0.666666666667 1.0 0.8\n",
      "1.0 0.833333333333 0.909090909091\n"
     ]
    }
   ],
   "source": [
    "print(Ram, Rcm, Rem) \n",
    "print(Rbm, Rdm, Rfm) "
   ]
  },
  {
   "cell_type": "code",
   "execution_count": 24,
   "metadata": {},
   "outputs": [
    {
     "name": "stdout",
     "output_type": "stream",
     "text": [
      "0.833333333333\n",
      "0.916666666667\n",
      "0.854545454545\n"
     ]
    }
   ],
   "source": [
    "Precision_mean=(Ram + Rbm) / 2\n",
    "print(Precision_mean)\n",
    "\n",
    "recall_m=(Rcm + Rdm) / 2\n",
    "print(recall_m)\n",
    "\n",
    "f1_score_m=(Rem + Rfm) / 2\n",
    "print(f1_score_m)\n"
   ]
  }
 ],
 "metadata": {
  "kernelspec": {
   "display_name": "Python 3",
   "language": "python",
   "name": "python3"
  },
  "language_info": {
   "codemirror_mode": {
    "name": "ipython",
    "version": 3
   },
   "file_extension": ".py",
   "mimetype": "text/x-python",
   "name": "python",
   "nbconvert_exporter": "python",
   "pygments_lexer": "ipython3",
   "version": "3.6.1"
  }
 },
 "nbformat": 4,
 "nbformat_minor": 2
}
